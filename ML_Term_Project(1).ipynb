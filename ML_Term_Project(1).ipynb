{
 "cells": [
  {
   "cell_type": "markdown",
   "metadata": {},
   "source": [
    "# Task Definition\n",
    "\n",
    "* 주어진 데이터를 갖고 네트워크 칩입을 감지하는 Classfication Model을 설계하라.\n",
    "\n",
    "* 주어진 데이터를 가공하고, 수정하여도 무관하다.\n",
    "\n",
    "* 사용해 볼 수 있는 만큼 많은 모델을 시도하여 볼 것\n",
    "\n",
    "* 사용한 모델은 모두 Jupyter Notebook에 남길 것 (채점할 때 실행 가능하도록)\n",
    "\n",
    "* 보고서는 따로 워드로 제출할 것 (보고서 양식은 따로 없음)"
   ]
  },
  {
   "cell_type": "markdown",
   "metadata": {},
   "source": [
    "# Data Description"
   ]
  },
  {
   "cell_type": "markdown",
   "metadata": {},
   "source": [
    "해당 데이터는 KDD Cup 1999 Dataset을 가공한 네트워크 칩입 감지 시스템용 데이터이다. 각 Feature들은 어떤 protocol type을 사용하는 지 혹은 어떤 service를 사용하는 지 등의 내용를 담고 있다. Class는 현재 네트워크가 침입을 당한 상태인 지 만약 침입을 당하였다면 어떤 종류의 침입을 당했는 지를 나타낸다."
   ]
  },
  {
   "cell_type": "markdown",
   "metadata": {},
   "source": [
    "# Feature Description"
   ]
  },
  {
   "cell_type": "markdown",
   "metadata": {},
   "source": [
    "## Total 41 Features.\n",
    "\n",
    "duration: continuous.\n",
    "\n",
    "protocol_type: symbolic.\n",
    "\n",
    "service: Numeric, categorical\n",
    "\n",
    "flag: Numeric, categorical\n",
    "\n",
    "src_bytes: continuous.\n",
    "\n",
    "dst_bytes: continuous.\n",
    "\n",
    "land: symbolic.\n",
    "\n",
    "wrong_fragment: continuous.\n",
    "\n",
    "urgent: continuous.\n",
    "\n",
    "hot: continuous.\n",
    "\n",
    "num_failed_logins: continuous.\n",
    "\n",
    "logged_in: symbolic.\n",
    "\n",
    "num_compromised: continuous.\n",
    "\n",
    "root_shell: continuous.\n",
    "\n",
    "su_attempted: continuous.\n",
    "\n",
    "num_root: continuous.\n",
    "\n",
    "num_file_creations: continuous.\n",
    "\n",
    "num_shells: continuous.\n",
    "\n",
    "num_access_files: continuous.\n",
    "\n",
    "num_outbound_cmds: continuous.\n",
    "\n",
    "is_host_login: symbolic.\n",
    "\n",
    "is_guest_login: symbolic.\n",
    "\n",
    "count: continuous.\n",
    "\n",
    "srv_count: continuous.\n",
    "\n",
    "serror_rate: continuous.\n",
    "\n",
    "srv_serror_rate: continuous.\n",
    "\n",
    "rerror_rate: continuous.\n",
    "\n",
    "srv_rerror_rate: continuous.\n",
    "\n",
    "same_srv_rate: continuous.\n",
    "\n",
    "diff_srv_rate: continuous.\n",
    "\n",
    "srv_diff_host_rate: continuous.\n",
    "\n",
    "dst_host_count: continuous.\n",
    "\n",
    "dst_host_srv_count: continuous.\n",
    "\n",
    "dst_host_same_srv_rate: continuous.\n",
    "\n",
    "dst_host_diff_srv_rate: continuous.\n",
    "\n",
    "dst_host_same_src_port_rate: continuous.\n",
    "\n",
    "dst_host_srv_diff_host_rate: continuous.\n",
    "\n",
    "dst_host_serror_rate: continuous.\n",
    "\n",
    "dst_host_srv_serror_rate: continuous.\n",
    "\n",
    "dst_host_rerror_rate: continuous.\n",
    "\n",
    "dst_host_srv_rerror_rate: continuous.\n",
    "\n",
    "보다 자세한 설명은 http://kdd.ics.uci.edu/databases/kddcup99/kddcup99.html 를 참조(가공된 데이터이기 때문에, 사이트와 다른 점이 있음을 염두할것.)"
   ]
  },
  {
   "cell_type": "markdown",
   "metadata": {},
   "source": [
    "# Class Description"
   ]
  },
  {
   "cell_type": "markdown",
   "metadata": {},
   "source": [
    "\"Normal\", \"dos\", \"u2r\", \"r2l\", \"probe\" 5개의 Class가 존재한다.\n",
    "\n",
    "Normal은 정상을 의미하며, 나머지 4개는 네트워크상 침입 기법들의 이름들이다."
   ]
  },
  {
   "cell_type": "markdown",
   "metadata": {},
   "source": [
    "# Pandas로 데이터 불러오기"
   ]
  },
  {
   "cell_type": "code",
   "execution_count": null,
   "metadata": {
    "collapsed": true
   },
   "outputs": [],
   "source": [
    "import pandas as pd\n",
    "data = pd.read_csv('train_data.csv')"
   ]
  },
  {
   "cell_type": "code",
   "execution_count": null,
   "metadata": {
    "collapsed": true
   },
   "outputs": [],
   "source": [
    "data"
   ]
  },
  {
   "cell_type": "markdown",
   "metadata": {},
   "source": [
    "# Decision Tree Example\n",
    "\n",
    "이 예시는 그대로 실행하면 에러가 납니다."
   ]
  },
  {
   "cell_type": "code",
   "execution_count": null,
   "metadata": {
    "collapsed": true
   },
   "outputs": [],
   "source": [
    "from sklearn import tree\n",
    "X = data.iloc[:,:-1]\n",
    "y = data.iloc[:,-1]"
   ]
  },
  {
   "cell_type": "code",
   "execution_count": null,
   "metadata": {
    "collapsed": true
   },
   "outputs": [],
   "source": [
    "X"
   ]
  },
  {
   "cell_type": "code",
   "execution_count": null,
   "metadata": {
    "collapsed": true
   },
   "outputs": [],
   "source": [
    "y"
   ]
  },
  {
   "cell_type": "code",
   "execution_count": null,
   "metadata": {
    "collapsed": true
   },
   "outputs": [],
   "source": [
    "decision_tree = tree.DecisionTreeClassifier()"
   ]
  },
  {
   "cell_type": "code",
   "execution_count": null,
   "metadata": {
    "collapsed": true
   },
   "outputs": [],
   "source": [
    "decision_tree.fit(X, y)"
   ]
  },
  {
   "cell_type": "code",
   "execution_count": null,
   "metadata": {
    "collapsed": true
   },
   "outputs": [],
   "source": []
  },
  {
   "cell_type": "code",
   "execution_count": null,
   "metadata": {
    "collapsed": true
   },
   "outputs": [],
   "source": []
  }
 ],
 "metadata": {
  "kernelspec": {
   "display_name": "Python 3",
   "language": "python",
   "name": "python3"
  },
  "language_info": {
   "codemirror_mode": {
    "name": "ipython",
    "version": 3
   },
   "file_extension": ".py",
   "mimetype": "text/x-python",
   "name": "python",
   "nbconvert_exporter": "python",
   "pygments_lexer": "ipython3",
   "version": "3.6.0"
  }
 },
 "nbformat": 4,
 "nbformat_minor": 2
}
